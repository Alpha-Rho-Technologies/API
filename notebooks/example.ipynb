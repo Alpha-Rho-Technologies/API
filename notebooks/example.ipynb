{
 "cells": [
  {
   "cell_type": "code",
   "execution_count": null,
   "metadata": {},
   "outputs": [],
   "source": [
    "from API import ARTapi\n",
    "import pandas as pd\n",
    "import os\n",
    "\n",
    "user = os.getenv('WEB_U')\n",
    "password = os.getenv('WEB_P')\n",
    "\n",
    "# Initialize API Object:\n",
    "ART_API = ARTapi(user_name=user,password=password)"
   ]
  },
  {
   "cell_type": "markdown",
   "metadata": {},
   "source": [
    "Strategy Portfolio:"
   ]
  },
  {
   "cell_type": "code",
   "execution_count": null,
   "metadata": {},
   "outputs": [],
   "source": [
    "data = ART_API.sp(strategy='global_macro',engine='NeuralQ')\n",
    "portfolio = pd.DataFrame(data)\n",
    "portfolio"
   ]
  },
  {
   "cell_type": "markdown",
   "metadata": {},
   "source": [
    "Strategy Historical Portfolios:"
   ]
  },
  {
   "cell_type": "code",
   "execution_count": null,
   "metadata": {},
   "outputs": [],
   "source": [
    "data = ART_API.shp(strategy='global_macro',engine='NeuralQ')\n",
    "historical_portfolios = pd.DataFrame(data)\n",
    "historical_portfolios.columns = pd.to_datetime(historical_portfolios.columns, unit='ms').date\n",
    "historical_portfolios"
   ]
  },
  {
   "cell_type": "markdown",
   "metadata": {},
   "source": [
    "Strategy Historical Price Data:"
   ]
  },
  {
   "cell_type": "code",
   "execution_count": null,
   "metadata": {},
   "outputs": [],
   "source": [
    "data = ART_API.shpd(strategy='global_macro',engine='NeuralQ')\n",
    "price_series = pd.Series(data)\n",
    "price_series.index = pd.to_datetime(price_series.index, unit='ms').date\n",
    "price_series"
   ]
  }
 ],
 "metadata": {
  "kernelspec": {
   "display_name": "Python 3",
   "language": "python",
   "name": "python3"
  },
  "language_info": {
   "codemirror_mode": {
    "name": "ipython",
    "version": 3
   },
   "file_extension": ".py",
   "mimetype": "text/x-python",
   "name": "python",
   "nbconvert_exporter": "python",
   "pygments_lexer": "ipython3",
   "version": "3.11.6"
  }
 },
 "nbformat": 4,
 "nbformat_minor": 2
}
